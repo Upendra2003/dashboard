{
 "cells": [
  {
   "cell_type": "code",
   "execution_count": 2,
   "id": "f3ca239c",
   "metadata": {},
   "outputs": [
    {
     "ename": "TypeError",
     "evalue": "WebDriver.__init__() got an unexpected keyword argument 'executable_path'",
     "output_type": "error",
     "traceback": [
      "\u001b[1;31m---------------------------------------------------------------------------\u001b[0m",
      "\u001b[1;31mTypeError\u001b[0m                                 Traceback (most recent call last)",
      "Cell \u001b[1;32mIn[2], line 9\u001b[0m\n\u001b[0;32m      6\u001b[0m \u001b[38;5;66;03m# Set up the web driver\u001b[39;00m\n\u001b[0;32m      7\u001b[0m \u001b[38;5;66;03m# Make sure to specify the path to your WebDriver executable\u001b[39;00m\n\u001b[0;32m      8\u001b[0m driver_path \u001b[38;5;241m=\u001b[39m \u001b[38;5;124m'\u001b[39m\u001b[38;5;124mC:\u001b[39m\u001b[38;5;124m\\\u001b[39m\u001b[38;5;124mProgramData\u001b[39m\u001b[38;5;124m\\\u001b[39m\u001b[38;5;124mMicrosoft\u001b[39m\u001b[38;5;124m\\\u001b[39m\u001b[38;5;124mWindows\u001b[39m\u001b[38;5;124m\\\u001b[39m\u001b[38;5;124mStart Menu\u001b[39m\u001b[38;5;124m\\\u001b[39m\u001b[38;5;124mPrograms\u001b[39m\u001b[38;5;124m\\\u001b[39m\u001b[38;5;124mchromedriver\u001b[39m\u001b[38;5;124m'\u001b[39m\n\u001b[1;32m----> 9\u001b[0m driver \u001b[38;5;241m=\u001b[39m \u001b[43mwebdriver\u001b[49m\u001b[38;5;241;43m.\u001b[39;49m\u001b[43mChrome\u001b[49m\u001b[43m(\u001b[49m\u001b[43mexecutable_path\u001b[49m\u001b[38;5;241;43m=\u001b[39;49m\u001b[43mdriver_path\u001b[49m\u001b[43m)\u001b[49m\n\u001b[0;32m     11\u001b[0m \u001b[38;5;66;03m# Open Twitter\u001b[39;00m\n\u001b[0;32m     12\u001b[0m driver\u001b[38;5;241m.\u001b[39mget(\u001b[38;5;124m'\u001b[39m\u001b[38;5;124mhttps://twitter.com/login\u001b[39m\u001b[38;5;124m'\u001b[39m)\n",
      "\u001b[1;31mTypeError\u001b[0m: WebDriver.__init__() got an unexpected keyword argument 'executable_path'"
     ]
    }
   ],
   "source": [
    "from selenium import webdriver\n",
    "from selenium.webdriver.common.keys import Keys\n",
    "from selenium.webdriver.common.by import By\n",
    "import time\n",
    "\n",
    "# Set up the web driver\n",
    "# Make sure to specify the path to your WebDriver executable\n",
    "driver_path = 'C:\\ProgramData\\Microsoft\\Windows\\Start Menu\\Programs\\chromedriver'\n",
    "driver = webdriver.Chrome(executable_path=driver_path)\n",
    "\n",
    "# Open Twitter\n",
    "driver.get('https://twitter.com/login')\n",
    "\n",
    "# Allow time for the page to load\n",
    "time.sleep(5)\n",
    "\n",
    "# Log in to Twitter (You need to replace 'your_username' and 'your_password' with your actual credentials)\n",
    "username = driver.find_element(By.NAME, 'session[username_or_email]')\n",
    "password = driver.find_element(By.NAME, 'session[password]')\n",
    "username.send_keys('your_username')\n",
    "password.send_keys('your_password')\n",
    "password.send_keys(Keys.RETURN)\n",
    "\n",
    "# Allow time for the login process\n",
    "time.sleep(5)\n",
    "\n",
    "# Navigate to a specific profile or search page (e.g., Twitter's main feed)\n",
    "driver.get('https://twitter.com/elonmusk')\n",
    "\n",
    "# Allow time for the page to load\n",
    "time.sleep(5)\n",
    "\n",
    "# Scroll down to load more tweets\n",
    "for _ in range(3):  # Adjust the range to scroll more or less\n",
    "    driver.find_element(By.TAG_NAME, 'body').send_keys(Keys.END)\n",
    "    time.sleep(3)  # Wait for tweets to load\n",
    "\n",
    "# Extract tweets\n",
    "tweets = driver.find_elements(By.XPATH, '//div[@data-testid=\"tweet\"]')\n",
    "\n",
    "for tweet in tweets:\n",
    "    try:\n",
    "        content = tweet.find_element(By.XPATH, './/div[@lang]').text\n",
    "        print(content)\n",
    "    except Exception as e:\n",
    "        print(\"Error extracting tweet content:\", e)\n",
    "\n",
    "# Close the driver\n",
    "driver.quit()\n"
   ]
  },
  {
   "cell_type": "code",
   "execution_count": null,
   "id": "292f8e12",
   "metadata": {},
   "outputs": [],
   "source": []
  }
 ],
 "metadata": {
  "kernelspec": {
   "display_name": "Python 3 (ipykernel)",
   "language": "python",
   "name": "python3"
  },
  "language_info": {
   "codemirror_mode": {
    "name": "ipython",
    "version": 3
   },
   "file_extension": ".py",
   "mimetype": "text/x-python",
   "name": "python",
   "nbconvert_exporter": "python",
   "pygments_lexer": "ipython3",
   "version": "3.10.8"
  }
 },
 "nbformat": 4,
 "nbformat_minor": 5
}
