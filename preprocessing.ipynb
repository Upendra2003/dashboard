{
 "cells": [
  {
   "cell_type": "code",
   "execution_count": 1,
   "id": "9856f73b",
   "metadata": {},
   "outputs": [],
   "source": [
    "import numpy as np\n",
    "import pandas as pd"
   ]
  },
  {
   "cell_type": "code",
   "execution_count": 2,
   "id": "a81560a9",
   "metadata": {},
   "outputs": [],
   "source": [
    "from selenium import webdriver\n",
    "from bs4 import BeautifulSoup"
   ]
  },
  {
   "cell_type": "code",
   "execution_count": 25,
   "id": "7f88363f",
   "metadata": {},
   "outputs": [],
   "source": [
    "driver = webdriver.Chrome()\n",
    "driver.get('https://www.kooapp.com')"
   ]
  },
  {
   "cell_type": "code",
   "execution_count": 26,
   "id": "dd6b23c6",
   "metadata": {},
   "outputs": [],
   "source": [
    "soup = BeautifulSoup(driver.page_source, 'html.parser')"
   ]
  },
  {
   "cell_type": "code",
   "execution_count": 27,
   "id": "dbd53985",
   "metadata": {},
   "outputs": [],
   "source": []
  },
  {
   "cell_type": "code",
   "execution_count": 33,
   "id": "a972ec7a",
   "metadata": {},
   "outputs": [],
   "source": [
    "headings=[]\n",
    "headings.append(soup.find('div', class_='HeadingTag_heading__8sweI').get_text(strip=True))"
   ]
  },
  {
   "cell_type": "code",
   "execution_count": null,
   "id": "b4135e12",
   "metadata": {},
   "outputs": [],
   "source": [
    "headings"
   ]
  },
  {
   "cell_type": "code",
   "execution_count": 1,
   "id": "a9555164",
   "metadata": {},
   "outputs": [],
   "source": [
    "import pandas as pd"
   ]
  },
  {
   "cell_type": "code",
   "execution_count": 2,
   "id": "7d647883",
   "metadata": {},
   "outputs": [],
   "source": [
    "df=pd.read_csv('koo_trending_data.csv')"
   ]
  },
  {
   "cell_type": "code",
   "execution_count": 3,
   "id": "2b9cc332",
   "metadata": {},
   "outputs": [
    {
     "data": {
      "text/html": [
       "<div>\n",
       "<style scoped>\n",
       "    .dataframe tbody tr th:only-of-type {\n",
       "        vertical-align: middle;\n",
       "    }\n",
       "\n",
       "    .dataframe tbody tr th {\n",
       "        vertical-align: top;\n",
       "    }\n",
       "\n",
       "    .dataframe thead th {\n",
       "        text-align: right;\n",
       "    }\n",
       "</style>\n",
       "<table border=\"1\" class=\"dataframe\">\n",
       "  <thead>\n",
       "    <tr style=\"text-align: right;\">\n",
       "      <th></th>\n",
       "      <th>Usernames</th>\n",
       "      <th>Hashtags</th>\n",
       "      <th>Headings</th>\n",
       "      <th>Likes</th>\n",
       "      <th>Comments</th>\n",
       "      <th>Shares</th>\n",
       "      <th>Username</th>\n",
       "    </tr>\n",
       "  </thead>\n",
       "  <tbody>\n",
       "    <tr>\n",
       "      <th>0</th>\n",
       "      <td>beauty_ghosh_garai9619</td>\n",
       "      <td>['NA']</td>\n",
       "      <td>Good night friends love you too</td>\n",
       "      <td>19</td>\n",
       "      <td>2.0</td>\n",
       "      <td>NaN</td>\n",
       "      <td>NaN</td>\n",
       "    </tr>\n",
       "    <tr>\n",
       "      <th>1</th>\n",
       "      <td>bunnyfitnesstv</td>\n",
       "      <td>['NA']</td>\n",
       "      <td>Guess my weight ??</td>\n",
       "      <td>9</td>\n",
       "      <td>1.0</td>\n",
       "      <td>NaN</td>\n",
       "      <td>NaN</td>\n",
       "    </tr>\n",
       "    <tr>\n",
       "      <th>2</th>\n",
       "      <td>ak_editor_0777</td>\n",
       "      <td>['NA']</td>\n",
       "      <td>Thank you ❤ please spport kijiye🙏🙏🙏Wait for ed...</td>\n",
       "      <td>39</td>\n",
       "      <td>NaN</td>\n",
       "      <td>NaN</td>\n",
       "      <td>NaN</td>\n",
       "    </tr>\n",
       "    <tr>\n",
       "      <th>3</th>\n",
       "      <td>sandeep_sagar1313</td>\n",
       "      <td>['NA']</td>\n",
       "      <td>Manimahesh</td>\n",
       "      <td>6</td>\n",
       "      <td>NaN</td>\n",
       "      <td>NaN</td>\n",
       "      <td>NaN</td>\n",
       "    </tr>\n",
       "    <tr>\n",
       "      <th>4</th>\n",
       "      <td>cricstatsint</td>\n",
       "      <td>['NA']</td>\n",
       "      <td>NaN</td>\n",
       "      <td>5</td>\n",
       "      <td>NaN</td>\n",
       "      <td>NaN</td>\n",
       "      <td>NaN</td>\n",
       "    </tr>\n",
       "  </tbody>\n",
       "</table>\n",
       "</div>"
      ],
      "text/plain": [
       "                Usernames Hashtags  \\\n",
       "0  beauty_ghosh_garai9619   ['NA']   \n",
       "1          bunnyfitnesstv   ['NA']   \n",
       "2          ak_editor_0777   ['NA']   \n",
       "3       sandeep_sagar1313   ['NA']   \n",
       "4            cricstatsint   ['NA']   \n",
       "\n",
       "                                            Headings Likes  Comments  Shares  \\\n",
       "0                    Good night friends love you too    19       2.0     NaN   \n",
       "1                                 Guess my weight ??     9       1.0     NaN   \n",
       "2  Thank you ❤ please spport kijiye🙏🙏🙏Wait for ed...    39       NaN     NaN   \n",
       "3                                         Manimahesh     6       NaN     NaN   \n",
       "4                                                NaN     5       NaN     NaN   \n",
       "\n",
       "  Username  \n",
       "0      NaN  \n",
       "1      NaN  \n",
       "2      NaN  \n",
       "3      NaN  \n",
       "4      NaN  "
      ]
     },
     "execution_count": 3,
     "metadata": {},
     "output_type": "execute_result"
    }
   ],
   "source": [
    "df.head()"
   ]
  },
  {
   "cell_type": "code",
   "execution_count": null,
   "id": "1c5f516c",
   "metadata": {},
   "outputs": [],
   "source": []
  }
 ],
 "metadata": {
  "kernelspec": {
   "display_name": "Python 3 (ipykernel)",
   "language": "python",
   "name": "python3"
  },
  "language_info": {
   "codemirror_mode": {
    "name": "ipython",
    "version": 3
   },
   "file_extension": ".py",
   "mimetype": "text/x-python",
   "name": "python",
   "nbconvert_exporter": "python",
   "pygments_lexer": "ipython3",
   "version": "3.10.8"
  }
 },
 "nbformat": 4,
 "nbformat_minor": 5
}
